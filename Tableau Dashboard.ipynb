{
 "cells": [
  {
   "cell_type": "code",
   "execution_count": 6,
   "id": "4e63cefc",
   "metadata": {
    "scrolled": false
   },
   "outputs": [
    {
     "data": {
      "text/html": [
       "\n",
       "        <iframe\n",
       "            width=\"1900\"\n",
       "            height=\"1000\"\n",
       "            src=\"https://public.tableau.com/views/SharkTankAnalysis_16441515839750/Dashboard1?:showVizHome=no&:embed=true\"\n",
       "            frameborder=\"0\"\n",
       "            allowfullscreen\n",
       "            \n",
       "        ></iframe>\n",
       "        "
      ],
      "text/plain": [
       "<IPython.lib.display.IFrame at 0x7fee18a1ad60>"
      ]
     },
     "execution_count": 6,
     "metadata": {},
     "output_type": "execute_result"
    }
   ],
   "source": [
    "from IPython.display import IFrame\n",
    "IFrame('https://public.tableau.com/views/SharkTankAnalysis_16441515839750/Dashboard1?:showVizHome=no&:embed=true',\n",
    "       width=1900, height=1000)"
   ]
  },
  {
   "cell_type": "code",
   "execution_count": null,
   "id": "f04ea2a0",
   "metadata": {},
   "outputs": [],
   "source": []
  }
 ],
 "metadata": {
  "kernelspec": {
   "display_name": "Python 3 (ipykernel)",
   "language": "python",
   "name": "python3"
  },
  "language_info": {
   "codemirror_mode": {
    "name": "ipython",
    "version": 3
   },
   "file_extension": ".py",
   "mimetype": "text/x-python",
   "name": "python",
   "nbconvert_exporter": "python",
   "pygments_lexer": "ipython3",
   "version": "3.9.7"
  }
 },
 "nbformat": 4,
 "nbformat_minor": 5
}
